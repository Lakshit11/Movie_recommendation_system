{
 "cells": [
  {
   "cell_type": "markdown",
   "metadata": {
    "id": "hgIxvpYs1aDJ"
   },
   "source": [
    "## Importing Necessary Libraries:"
   ]
  },
  {
   "cell_type": "code",
   "execution_count": 1,
   "metadata": {
    "id": "NdnfpMHMCPfG"
   },
   "outputs": [],
   "source": [
    "import pandas as pd\n",
    "import numpy as np\n",
    "import difflib\n",
    "from sklearn.feature_extraction.text import TfidfVectorizer\n",
    "from sklearn.metrics.pairwise import cosine_similarity\n",
    "import warnings\n",
    "warnings.filterwarnings('ignore')"
   ]
  },
  {
   "cell_type": "markdown",
   "metadata": {
    "id": "0O3gVMdE1fCA"
   },
   "source": [
    "## Importing Dataset:"
   ]
  },
  {
   "cell_type": "code",
   "execution_count": 2,
   "metadata": {
    "colab": {
     "base_uri": "https://localhost:8080/",
     "height": 837
    },
    "id": "Kyh2rLNVCeeI",
    "outputId": "87a97a06-f518-4eea-ddfc-ee8b0121f4fc"
   },
   "outputs": [
    {
     "data": {
      "text/html": [
       "<div>\n",
       "<style scoped>\n",
       "    .dataframe tbody tr th:only-of-type {\n",
       "        vertical-align: middle;\n",
       "    }\n",
       "\n",
       "    .dataframe tbody tr th {\n",
       "        vertical-align: top;\n",
       "    }\n",
       "\n",
       "    .dataframe thead th {\n",
       "        text-align: right;\n",
       "    }\n",
       "</style>\n",
       "<table border=\"1\" class=\"dataframe\">\n",
       "  <thead>\n",
       "    <tr style=\"text-align: right;\">\n",
       "      <th></th>\n",
       "      <th>index</th>\n",
       "      <th>budget</th>\n",
       "      <th>genres</th>\n",
       "      <th>homepage</th>\n",
       "      <th>id</th>\n",
       "      <th>keywords</th>\n",
       "      <th>original_language</th>\n",
       "      <th>original_title</th>\n",
       "      <th>overview</th>\n",
       "      <th>popularity</th>\n",
       "      <th>...</th>\n",
       "      <th>runtime</th>\n",
       "      <th>spoken_languages</th>\n",
       "      <th>status</th>\n",
       "      <th>tagline</th>\n",
       "      <th>title</th>\n",
       "      <th>vote_average</th>\n",
       "      <th>vote_count</th>\n",
       "      <th>cast</th>\n",
       "      <th>crew</th>\n",
       "      <th>director</th>\n",
       "    </tr>\n",
       "  </thead>\n",
       "  <tbody>\n",
       "    <tr>\n",
       "      <th>0</th>\n",
       "      <td>0</td>\n",
       "      <td>237000000</td>\n",
       "      <td>Action Adventure Fantasy Science Fiction</td>\n",
       "      <td>http://www.avatarmovie.com/</td>\n",
       "      <td>19995</td>\n",
       "      <td>culture clash future space war space colony so...</td>\n",
       "      <td>en</td>\n",
       "      <td>Avatar</td>\n",
       "      <td>In the 22nd century, a paraplegic Marine is di...</td>\n",
       "      <td>150.437577</td>\n",
       "      <td>...</td>\n",
       "      <td>162.0</td>\n",
       "      <td>[{\"iso_639_1\": \"en\", \"name\": \"English\"}, {\"iso...</td>\n",
       "      <td>Released</td>\n",
       "      <td>Enter the World of Pandora.</td>\n",
       "      <td>Avatar</td>\n",
       "      <td>7.2</td>\n",
       "      <td>11800</td>\n",
       "      <td>Sam Worthington Zoe Saldana Sigourney Weaver S...</td>\n",
       "      <td>[{'name': 'Stephen E. Rivkin', 'gender': 0, 'd...</td>\n",
       "      <td>James Cameron</td>\n",
       "    </tr>\n",
       "    <tr>\n",
       "      <th>1</th>\n",
       "      <td>1</td>\n",
       "      <td>300000000</td>\n",
       "      <td>Adventure Fantasy Action</td>\n",
       "      <td>http://disney.go.com/disneypictures/pirates/</td>\n",
       "      <td>285</td>\n",
       "      <td>ocean drug abuse exotic island east india trad...</td>\n",
       "      <td>en</td>\n",
       "      <td>Pirates of the Caribbean: At World's End</td>\n",
       "      <td>Captain Barbossa, long believed to be dead, ha...</td>\n",
       "      <td>139.082615</td>\n",
       "      <td>...</td>\n",
       "      <td>169.0</td>\n",
       "      <td>[{\"iso_639_1\": \"en\", \"name\": \"English\"}]</td>\n",
       "      <td>Released</td>\n",
       "      <td>At the end of the world, the adventure begins.</td>\n",
       "      <td>Pirates of the Caribbean: At World's End</td>\n",
       "      <td>6.9</td>\n",
       "      <td>4500</td>\n",
       "      <td>Johnny Depp Orlando Bloom Keira Knightley Stel...</td>\n",
       "      <td>[{'name': 'Dariusz Wolski', 'gender': 2, 'depa...</td>\n",
       "      <td>Gore Verbinski</td>\n",
       "    </tr>\n",
       "    <tr>\n",
       "      <th>2</th>\n",
       "      <td>2</td>\n",
       "      <td>245000000</td>\n",
       "      <td>Action Adventure Crime</td>\n",
       "      <td>http://www.sonypictures.com/movies/spectre/</td>\n",
       "      <td>206647</td>\n",
       "      <td>spy based on novel secret agent sequel mi6</td>\n",
       "      <td>en</td>\n",
       "      <td>Spectre</td>\n",
       "      <td>A cryptic message from Bond’s past sends him o...</td>\n",
       "      <td>107.376788</td>\n",
       "      <td>...</td>\n",
       "      <td>148.0</td>\n",
       "      <td>[{\"iso_639_1\": \"fr\", \"name\": \"Fran\\u00e7ais\"},...</td>\n",
       "      <td>Released</td>\n",
       "      <td>A Plan No One Escapes</td>\n",
       "      <td>Spectre</td>\n",
       "      <td>6.3</td>\n",
       "      <td>4466</td>\n",
       "      <td>Daniel Craig Christoph Waltz L\\u00e9a Seydoux ...</td>\n",
       "      <td>[{'name': 'Thomas Newman', 'gender': 2, 'depar...</td>\n",
       "      <td>Sam Mendes</td>\n",
       "    </tr>\n",
       "    <tr>\n",
       "      <th>3</th>\n",
       "      <td>3</td>\n",
       "      <td>250000000</td>\n",
       "      <td>Action Crime Drama Thriller</td>\n",
       "      <td>http://www.thedarkknightrises.com/</td>\n",
       "      <td>49026</td>\n",
       "      <td>dc comics crime fighter terrorist secret ident...</td>\n",
       "      <td>en</td>\n",
       "      <td>The Dark Knight Rises</td>\n",
       "      <td>Following the death of District Attorney Harve...</td>\n",
       "      <td>112.312950</td>\n",
       "      <td>...</td>\n",
       "      <td>165.0</td>\n",
       "      <td>[{\"iso_639_1\": \"en\", \"name\": \"English\"}]</td>\n",
       "      <td>Released</td>\n",
       "      <td>The Legend Ends</td>\n",
       "      <td>The Dark Knight Rises</td>\n",
       "      <td>7.6</td>\n",
       "      <td>9106</td>\n",
       "      <td>Christian Bale Michael Caine Gary Oldman Anne ...</td>\n",
       "      <td>[{'name': 'Hans Zimmer', 'gender': 2, 'departm...</td>\n",
       "      <td>Christopher Nolan</td>\n",
       "    </tr>\n",
       "    <tr>\n",
       "      <th>4</th>\n",
       "      <td>4</td>\n",
       "      <td>260000000</td>\n",
       "      <td>Action Adventure Science Fiction</td>\n",
       "      <td>http://movies.disney.com/john-carter</td>\n",
       "      <td>49529</td>\n",
       "      <td>based on novel mars medallion space travel pri...</td>\n",
       "      <td>en</td>\n",
       "      <td>John Carter</td>\n",
       "      <td>John Carter is a war-weary, former military ca...</td>\n",
       "      <td>43.926995</td>\n",
       "      <td>...</td>\n",
       "      <td>132.0</td>\n",
       "      <td>[{\"iso_639_1\": \"en\", \"name\": \"English\"}]</td>\n",
       "      <td>Released</td>\n",
       "      <td>Lost in our world, found in another.</td>\n",
       "      <td>John Carter</td>\n",
       "      <td>6.1</td>\n",
       "      <td>2124</td>\n",
       "      <td>Taylor Kitsch Lynn Collins Samantha Morton Wil...</td>\n",
       "      <td>[{'name': 'Andrew Stanton', 'gender': 2, 'depa...</td>\n",
       "      <td>Andrew Stanton</td>\n",
       "    </tr>\n",
       "  </tbody>\n",
       "</table>\n",
       "<p>5 rows × 24 columns</p>\n",
       "</div>"
      ],
      "text/plain": [
       "   index     budget                                    genres  \\\n",
       "0      0  237000000  Action Adventure Fantasy Science Fiction   \n",
       "1      1  300000000                  Adventure Fantasy Action   \n",
       "2      2  245000000                    Action Adventure Crime   \n",
       "3      3  250000000               Action Crime Drama Thriller   \n",
       "4      4  260000000          Action Adventure Science Fiction   \n",
       "\n",
       "                                       homepage      id  \\\n",
       "0                   http://www.avatarmovie.com/   19995   \n",
       "1  http://disney.go.com/disneypictures/pirates/     285   \n",
       "2   http://www.sonypictures.com/movies/spectre/  206647   \n",
       "3            http://www.thedarkknightrises.com/   49026   \n",
       "4          http://movies.disney.com/john-carter   49529   \n",
       "\n",
       "                                            keywords original_language  \\\n",
       "0  culture clash future space war space colony so...                en   \n",
       "1  ocean drug abuse exotic island east india trad...                en   \n",
       "2         spy based on novel secret agent sequel mi6                en   \n",
       "3  dc comics crime fighter terrorist secret ident...                en   \n",
       "4  based on novel mars medallion space travel pri...                en   \n",
       "\n",
       "                             original_title  \\\n",
       "0                                    Avatar   \n",
       "1  Pirates of the Caribbean: At World's End   \n",
       "2                                   Spectre   \n",
       "3                     The Dark Knight Rises   \n",
       "4                               John Carter   \n",
       "\n",
       "                                            overview  popularity  ... runtime  \\\n",
       "0  In the 22nd century, a paraplegic Marine is di...  150.437577  ...   162.0   \n",
       "1  Captain Barbossa, long believed to be dead, ha...  139.082615  ...   169.0   \n",
       "2  A cryptic message from Bond’s past sends him o...  107.376788  ...   148.0   \n",
       "3  Following the death of District Attorney Harve...  112.312950  ...   165.0   \n",
       "4  John Carter is a war-weary, former military ca...   43.926995  ...   132.0   \n",
       "\n",
       "                                    spoken_languages    status  \\\n",
       "0  [{\"iso_639_1\": \"en\", \"name\": \"English\"}, {\"iso...  Released   \n",
       "1           [{\"iso_639_1\": \"en\", \"name\": \"English\"}]  Released   \n",
       "2  [{\"iso_639_1\": \"fr\", \"name\": \"Fran\\u00e7ais\"},...  Released   \n",
       "3           [{\"iso_639_1\": \"en\", \"name\": \"English\"}]  Released   \n",
       "4           [{\"iso_639_1\": \"en\", \"name\": \"English\"}]  Released   \n",
       "\n",
       "                                          tagline  \\\n",
       "0                     Enter the World of Pandora.   \n",
       "1  At the end of the world, the adventure begins.   \n",
       "2                           A Plan No One Escapes   \n",
       "3                                 The Legend Ends   \n",
       "4            Lost in our world, found in another.   \n",
       "\n",
       "                                      title vote_average vote_count  \\\n",
       "0                                    Avatar          7.2      11800   \n",
       "1  Pirates of the Caribbean: At World's End          6.9       4500   \n",
       "2                                   Spectre          6.3       4466   \n",
       "3                     The Dark Knight Rises          7.6       9106   \n",
       "4                               John Carter          6.1       2124   \n",
       "\n",
       "                                                cast  \\\n",
       "0  Sam Worthington Zoe Saldana Sigourney Weaver S...   \n",
       "1  Johnny Depp Orlando Bloom Keira Knightley Stel...   \n",
       "2  Daniel Craig Christoph Waltz L\\u00e9a Seydoux ...   \n",
       "3  Christian Bale Michael Caine Gary Oldman Anne ...   \n",
       "4  Taylor Kitsch Lynn Collins Samantha Morton Wil...   \n",
       "\n",
       "                                                crew           director  \n",
       "0  [{'name': 'Stephen E. Rivkin', 'gender': 0, 'd...      James Cameron  \n",
       "1  [{'name': 'Dariusz Wolski', 'gender': 2, 'depa...     Gore Verbinski  \n",
       "2  [{'name': 'Thomas Newman', 'gender': 2, 'depar...         Sam Mendes  \n",
       "3  [{'name': 'Hans Zimmer', 'gender': 2, 'departm...  Christopher Nolan  \n",
       "4  [{'name': 'Andrew Stanton', 'gender': 2, 'depa...     Andrew Stanton  \n",
       "\n",
       "[5 rows x 24 columns]"
      ]
     },
     "execution_count": 2,
     "metadata": {},
     "output_type": "execute_result"
    }
   ],
   "source": [
    "df = pd.read_csv('movies.csv', engine=\"python\",error_bad_lines=False,encoding='utf-8')\n",
    "df.head()"
   ]
  },
  {
   "cell_type": "code",
   "execution_count": 3,
   "metadata": {
    "colab": {
     "base_uri": "https://localhost:8080/"
    },
    "id": "nRE7gwULELlc",
    "outputId": "7cbabd01-4882-4045-df65-474cd07b5312"
   },
   "outputs": [
    {
     "data": {
      "text/plain": [
       "(4803, 24)"
      ]
     },
     "execution_count": 3,
     "metadata": {},
     "output_type": "execute_result"
    }
   ],
   "source": [
    "df.shape"
   ]
  },
  {
   "cell_type": "code",
   "execution_count": 4,
   "metadata": {
    "colab": {
     "base_uri": "https://localhost:8080/"
    },
    "id": "kRC8UoCMDfcO",
    "outputId": "9693c10e-9aca-45fb-e4bc-41c0a68d8e4f"
   },
   "outputs": [
    {
     "data": {
      "text/plain": [
       "index                      0\n",
       "budget                     0\n",
       "genres                    28\n",
       "homepage                3091\n",
       "id                         0\n",
       "keywords                 412\n",
       "original_language          0\n",
       "original_title             0\n",
       "overview                   3\n",
       "popularity                 0\n",
       "production_companies       0\n",
       "production_countries       0\n",
       "release_date               1\n",
       "revenue                    0\n",
       "runtime                    2\n",
       "spoken_languages           0\n",
       "status                     0\n",
       "tagline                  844\n",
       "title                      0\n",
       "vote_average               0\n",
       "vote_count                 0\n",
       "cast                      43\n",
       "crew                       0\n",
       "director                  30\n",
       "dtype: int64"
      ]
     },
     "execution_count": 4,
     "metadata": {},
     "output_type": "execute_result"
    }
   ],
   "source": [
    "df.isnull().sum()"
   ]
  },
  {
   "cell_type": "markdown",
   "metadata": {
    "id": "uSL8cGfW1k2V"
   },
   "source": [
    "## Extracting Unique Movie Titles:"
   ]
  },
  {
   "cell_type": "code",
   "execution_count": 5,
   "metadata": {
    "colab": {
     "base_uri": "https://localhost:8080/"
    },
    "id": "2xWxp-OtJhk3",
    "outputId": "3793d67e-8e15-4203-be2e-f83272504418"
   },
   "outputs": [
    {
     "name": "stdout",
     "output_type": "stream",
     "text": [
      "['Avatar', \"Pirates of the Caribbean: At World's End\", 'Spectre', 'The Dark Knight Rises', 'John Carter']\n"
     ]
    }
   ],
   "source": [
    "mov_list = list(df['title'])\n",
    "print(mov_list[:5])"
   ]
  },
  {
   "cell_type": "markdown",
   "metadata": {
    "id": "DedV2blR1pDZ"
   },
   "source": [
    "## Selecting Significant Features Based on Intuition:"
   ]
  },
  {
   "cell_type": "code",
   "execution_count": 6,
   "metadata": {
    "id": "yzi3r4RWEIrA"
   },
   "outputs": [],
   "source": [
    "significant_features = ['genres','keywords','original_title','tagline','cast',\n",
    "                        'director','crew']"
   ]
  },
  {
   "cell_type": "code",
   "execution_count": 7,
   "metadata": {
    "colab": {
     "base_uri": "https://localhost:8080/"
    },
    "id": "VJ3l4vNdFxkD",
    "outputId": "9c80fc85-ceb1-483d-c3b6-dfdd8df06d16"
   },
   "outputs": [
    {
     "data": {
      "text/plain": [
       "genres             28\n",
       "keywords          412\n",
       "original_title      0\n",
       "tagline           844\n",
       "cast               43\n",
       "director           30\n",
       "crew                0\n",
       "dtype: int64"
      ]
     },
     "execution_count": 7,
     "metadata": {},
     "output_type": "execute_result"
    }
   ],
   "source": [
    "df[significant_features].isnull().sum()"
   ]
  },
  {
   "cell_type": "markdown",
   "metadata": {
    "id": "gMCQfspV1xtF"
   },
   "source": [
    "## Replacing Missing Data with Empty String:"
   ]
  },
  {
   "cell_type": "code",
   "execution_count": 8,
   "metadata": {
    "id": "G2qBKCelF1JO"
   },
   "outputs": [],
   "source": [
    "for col in significant_features:\n",
    "  df[col] = df[col].fillna('')"
   ]
  },
  {
   "cell_type": "code",
   "execution_count": 9,
   "metadata": {
    "colab": {
     "base_uri": "https://localhost:8080/"
    },
    "id": "SUwG3kZ4GPL-",
    "outputId": "98f98a1f-35ac-4de7-9520-dc9641a514a1"
   },
   "outputs": [
    {
     "data": {
      "text/plain": [
       "genres            0\n",
       "keywords          0\n",
       "original_title    0\n",
       "tagline           0\n",
       "cast              0\n",
       "director          0\n",
       "crew              0\n",
       "dtype: int64"
      ]
     },
     "execution_count": 9,
     "metadata": {},
     "output_type": "execute_result"
    }
   ],
   "source": [
    "df[significant_features].isnull().sum()"
   ]
  },
  {
   "cell_type": "markdown",
   "metadata": {
    "id": "rS3YPN4E12x4"
   },
   "source": [
    "## Combining selected significant features:"
   ]
  },
  {
   "cell_type": "code",
   "execution_count": 10,
   "metadata": {
    "colab": {
     "base_uri": "https://localhost:8080/"
    },
    "id": "_Wtundb6GPxW",
    "outputId": "65dd3129-e696-463c-c82a-c0c19471f818"
   },
   "outputs": [
    {
     "name": "stdout",
     "output_type": "stream",
     "text": [
      "0       Action Adventure Fantasy Science Fictioncultur...\n",
      "1       Adventure Fantasy Actionocean drug abuse exoti...\n",
      "2       Action Adventure Crimespy based on novel secre...\n",
      "3       Action Crime Drama Thrillerdc comics crime fig...\n",
      "4       Action Adventure Science Fictionbased on novel...\n",
      "                              ...                        \n",
      "4798    Action Crime Thrillerunited states\\u2013mexico...\n",
      "4799    Comedy RomanceNewlywedsA newlywed couple's hon...\n",
      "4800    Comedy Drama Romance TV Moviedate love at firs...\n",
      "4801    Shanghai CallingA New Yorker in ShanghaiDaniel...\n",
      "4802    Documentaryobsession camcorder crush dream gir...\n",
      "Length: 4803, dtype: object\n"
     ]
    }
   ],
   "source": [
    "comb_features = df['genres'] + df['keywords'] + df['original_title'] + df['tagline'] + df['cast'] + df['director']\n",
    "print(comb_features)"
   ]
  },
  {
   "cell_type": "markdown",
   "metadata": {
    "id": "J1nquJNz19E2"
   },
   "source": [
    "## Converted the combined features from text to some numbers:"
   ]
  },
  {
   "cell_type": "code",
   "execution_count": 11,
   "metadata": {
    "colab": {
     "base_uri": "https://localhost:8080/"
    },
    "id": "2k3M6PRNGfhn",
    "outputId": "aaf9d500-caec-4107-8b48-43f47939089c"
   },
   "outputs": [
    {
     "name": "stdout",
     "output_type": "stream",
     "text": [
      "  (0, 4177)\t0.16984228649378386\n",
      "  (0, 23730)\t0.2745422054284982\n",
      "  (0, 18962)\t0.15735294789525406\n",
      "  (0, 16573)\t0.22423986405627105\n",
      "  (0, 26584)\t0.16168440326935032\n",
      "  (0, 30336)\t0.19687743712022002\n",
      "  (0, 25643)\t0.2025758248110474\n",
      "  (0, 24544)\t0.21603977339532893\n",
      "  (0, 31480)\t0.19820762092950214\n",
      "  (0, 31060)\t0.23538759746699417\n",
      "  (0, 24581)\t0.15662606392489667\n",
      "  (0, 21211)\t0.2618695548558909\n",
      "  (0, 20737)\t0.07593889893982422\n",
      "  (0, 31030)\t0.1255690724276687\n",
      "  (0, 27673)\t0.06763445224876223\n",
      "  (0, 26001)\t0.2745422054284982\n",
      "  (0, 5416)\t0.24590390330149467\n",
      "  (0, 30084)\t0.1304535605687869\n",
      "  (0, 26167)\t0.33544503647929275\n",
      "  (0, 11579)\t0.16479025038661782\n",
      "  (0, 5161)\t0.21854147636544366\n",
      "  (0, 10586)\t0.2745422054284982\n",
      "  (0, 24918)\t0.09997355650895627\n",
      "  (0, 10197)\t0.11835632477890307\n",
      "  (0, 591)\t0.09127674685005416\n",
      "  :\t:\n",
      "  (4801, 31450)\t0.2765976089295238\n",
      "  (4801, 9283)\t0.2403297567639932\n",
      "  (4801, 937)\t0.1777012317949806\n",
      "  (4801, 13420)\t0.2765976089295238\n",
      "  (4801, 21479)\t0.2066025749434251\n",
      "  (4801, 2927)\t0.15243128458745167\n",
      "  (4801, 20311)\t0.14217526302378913\n",
      "  (4801, 14650)\t0.10744314923219381\n",
      "  (4802, 8875)\t0.2636095703745704\n",
      "  (4802, 13530)\t0.5272191407491408\n",
      "  (4802, 8729)\t0.2636095703745704\n",
      "  (4802, 12102)\t0.2636095703745704\n",
      "  (4802, 7998)\t0.2636095703745704\n",
      "  (4802, 4162)\t0.2361116834534183\n",
      "  (4802, 10452)\t0.21847220431978082\n",
      "  (4802, 6676)\t0.24280822192944548\n",
      "  (4802, 12570)\t0.20983886467948834\n",
      "  (4802, 23653)\t0.16007543637692434\n",
      "  (4802, 2381)\t0.18234097775833627\n",
      "  (4802, 6141)\t0.20521280243171386\n",
      "  (4802, 9506)\t0.1596028281489462\n",
      "  (4802, 3649)\t0.16153962931321145\n",
      "  (4802, 8693)\t0.1636101055414642\n",
      "  (4802, 30860)\t0.13344746550243256\n",
      "  (4802, 7006)\t0.20120552503919586\n"
     ]
    }
   ],
   "source": [
    "vectorizer = TfidfVectorizer()\n",
    "feature_vec = vectorizer.fit_transform(comb_features)\n",
    "print(feature_vec)"
   ]
  },
  {
   "cell_type": "markdown",
   "metadata": {
    "id": "0EQBSbDtIQmz"
   },
   "source": [
    "## Finding Cosine Similarity:"
   ]
  },
  {
   "cell_type": "code",
   "execution_count": 12,
   "metadata": {
    "colab": {
     "base_uri": "https://localhost:8080/"
    },
    "id": "Rj1eg514HvsM",
    "outputId": "e35adf6e-00a3-4290-b31c-97b239c98fa0"
   },
   "outputs": [
    {
     "name": "stdout",
     "output_type": "stream",
     "text": [
      "[[1.         0.07845094 0.01497998 ... 0.         0.         0.        ]\n",
      " [0.07845094 1.         0.02573662 ... 0.02866752 0.         0.        ]\n",
      " [0.01497998 0.02573662 1.         ... 0.         0.         0.        ]\n",
      " ...\n",
      " [0.         0.02866752 0.         ... 1.         0.         0.        ]\n",
      " [0.         0.         0.         ... 0.         1.         0.        ]\n",
      " [0.         0.         0.         ... 0.         0.         1.        ]]\n"
     ]
    }
   ],
   "source": [
    "sim = cosine_similarity(feature_vec)\n",
    "print(sim)"
   ]
  },
  {
   "cell_type": "markdown",
   "metadata": {
    "id": "OgFRm2mL2FO5"
   },
   "source": [
    "## User Input:"
   ]
  },
  {
   "cell_type": "code",
   "execution_count": 13,
   "metadata": {
    "colab": {
     "base_uri": "https://localhost:8080/"
    },
    "id": "iGPfkJ7yI8i-",
    "outputId": "f11b6d43-253a-4257-9dfc-e7c8d1320237"
   },
   "outputs": [
    {
     "name": "stdout",
     "output_type": "stream",
     "text": [
      "Enter Movie Name:iron man\n"
     ]
    }
   ],
   "source": [
    "movie_input = input(\"Enter Movie Name:\")"
   ]
  },
  {
   "cell_type": "markdown",
   "metadata": {
    "id": "8gwPEDCv2MUD"
   },
   "source": [
    "## Finding Closest Match to User Input:"
   ]
  },
  {
   "cell_type": "code",
   "execution_count": 14,
   "metadata": {
    "colab": {
     "base_uri": "https://localhost:8080/"
    },
    "id": "_wHlMor8JSqZ",
    "outputId": "08c95ea7-71ab-43bf-ff8a-89eec2074035"
   },
   "outputs": [
    {
     "name": "stdout",
     "output_type": "stream",
     "text": [
      "['Iron Man', 'Iron Man 3', 'Iron Man 2']\n"
     ]
    }
   ],
   "source": [
    "nn_match = difflib.get_close_matches(movie_input, mov_list)\n",
    "print(nn_match)"
   ]
  },
  {
   "cell_type": "code",
   "execution_count": 15,
   "metadata": {
    "colab": {
     "base_uri": "https://localhost:8080/"
    },
    "id": "7tHMdth9KFIb",
    "outputId": "3bf472f1-d55c-4c1c-f721-cd551727e0d1"
   },
   "outputs": [
    {
     "name": "stdout",
     "output_type": "stream",
     "text": [
      "Iron Man\n"
     ]
    }
   ],
   "source": [
    "closest_match = nn_match[0]\n",
    "print(closest_match)"
   ]
  },
  {
   "cell_type": "markdown",
   "metadata": {
    "id": "Li61coSz2TSs"
   },
   "source": [
    "## Extracting Index of the Closest Match:"
   ]
  },
  {
   "cell_type": "code",
   "execution_count": 16,
   "metadata": {
    "colab": {
     "base_uri": "https://localhost:8080/"
    },
    "id": "ShKvZypRKmwu",
    "outputId": "dbc92efa-7071-445d-d4f0-ce715c9c052a"
   },
   "outputs": [
    {
     "name": "stdout",
     "output_type": "stream",
     "text": [
      "68\n"
     ]
    }
   ],
   "source": [
    "idx_mov = np.where(df['title'] == closest_match)[0][0]\n",
    "print(idx_mov)"
   ]
  },
  {
   "cell_type": "markdown",
   "metadata": {
    "id": "JqCAHZct2XDm"
   },
   "source": [
    "## Finding Similarity Score:"
   ]
  },
  {
   "cell_type": "code",
   "execution_count": 17,
   "metadata": {
    "id": "oIX5_ScfK1BP"
   },
   "outputs": [],
   "source": [
    "# list of similar movies:\n",
    "sim_score = list(enumerate(sim[idx_mov]))"
   ]
  },
  {
   "cell_type": "markdown",
   "metadata": {
    "id": "b6B9WsAi2fAU"
   },
   "source": [
    "## Sorting movies based on similarity score:"
   ]
  },
  {
   "cell_type": "code",
   "execution_count": 18,
   "metadata": {
    "id": "HSU-pwXELfkH"
   },
   "outputs": [],
   "source": [
    "sorted_sim_score = sorted(sim_score, key = lambda x : x[1], reverse = True)"
   ]
  },
  {
   "cell_type": "markdown",
   "metadata": {
    "id": "zxCXJCoo2jyF"
   },
   "source": [
    "## Suggesting Top 10 Movies Based on Similarity Score:"
   ]
  },
  {
   "cell_type": "code",
   "execution_count": 19,
   "metadata": {
    "colab": {
     "base_uri": "https://localhost:8080/"
    },
    "id": "p26DWbwKMA5w",
    "outputId": "a1e57cd6-3beb-4a76-bb5d-975e3d90eae3"
   },
   "outputs": [
    {
     "name": "stdout",
     "output_type": "stream",
     "text": [
      "Movies Based on User Input:\n",
      "Iron Man 2\n",
      "Iron Man 3\n",
      "The Avengers\n",
      "Captain America: Civil War\n",
      "Ant-Man\n",
      "Avengers: Age of Ultron\n",
      "X-Men: The Last Stand\n",
      "X2\n",
      "Made\n"
     ]
    }
   ],
   "source": [
    "print(\"Movies Based on User Input:\")\n",
    "for ind in sorted_sim_score[1:10]:\n",
    "  idx = ind[0]\n",
    "  title = df[df.index == idx]['title'].values[0]\n",
    "  print(title)"
   ]
  }
 ],
 "metadata": {
  "colab": {
   "provenance": []
  },
  "kernelspec": {
   "display_name": "Python 3",
   "language": "python",
   "name": "python3"
  },
  "language_info": {
   "codemirror_mode": {
    "name": "ipython",
    "version": 3
   },
   "file_extension": ".py",
   "mimetype": "text/x-python",
   "name": "python",
   "nbconvert_exporter": "python",
   "pygments_lexer": "ipython3",
   "version": "3.9.7"
  }
 },
 "nbformat": 4,
 "nbformat_minor": 1
}
